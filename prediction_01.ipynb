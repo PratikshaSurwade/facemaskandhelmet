{
 "cells": [
  {
   "cell_type": "code",
   "execution_count": 1,
   "id": "cebbbf88",
   "metadata": {},
   "outputs": [],
   "source": [
    "from tensorflow.keras.applications.mobilenet_v2 import preprocess_input\n",
    "from tensorflow.keras.preprocessing.image import img_to_array\n",
    "from tensorflow.keras.models import load_model\n",
    "import numpy as np\n",
    "import argparse\n",
    "import cv2\n",
    "import os"
   ]
  },
  {
   "cell_type": "code",
   "execution_count": 2,
   "id": "b059027a",
   "metadata": {},
   "outputs": [],
   "source": [
    "def face_mask_prediction(img):\n",
    "\n",
    "\n",
    "    model = load_model(\"output//maskdetector.model\")\n",
    "    hmodel = load_model(\"output//helmetdetector.model\")\n",
    "\n",
    "    # image = cv2.imread(args[\"image\"])\n",
    "    image = img.copy()\n",
    "    orig = image.copy()\n",
    "    image = cv2.resize(image, (224, 224))\n",
    "    image = img_to_array(image)\n",
    "    image = preprocess_input(image)\n",
    "    image = np.expand_dims(image, axis=0)\n",
    "    # pass the face through the model to determine if the face\n",
    "    # has a mask or not\n",
    "    (mask, withoutMask) = model.predict(image)[0]\n",
    "    (helmet, withoutHelmet) = hmodel.predict(image)[0]\n",
    "\n",
    "\n",
    "    label = \"Mask\" if mask > withoutMask else \"No Mask\"\n",
    "    color = (0, 255, 0) if label == \"Mask\" else (0, 0, 255)\n",
    "    # include the probability in the label\n",
    "    label = \"{}: {:.2f}%\".format(label, max(mask, withoutMask) * 100)\n",
    "\n",
    "    hlabel = \"Helmet\" if helmet > withoutHelmet else \"No Helmet\"\n",
    "    color = (0, 255, 0) if hlabel == \"Helmet\" else (0, 0, 255)\n",
    "    # include the probability in the label\n",
    "    hlabel = \"{}: {:.2f}%\".format(hlabel, max(helmet, withoutHelmet) * 100)\n",
    "\n",
    "    # display the label and bounding box rectangle on the output\n",
    "    \n",
    "    # frame\n",
    "\n",
    "\n",
    "    cv2.putText(orig, label, (20, 40 ),\n",
    "    cv2.FONT_HERSHEY_SIMPLEX, 1, color, 2)\n",
    "\n",
    "    cv2.putText(orig, hlabel, (20, 70 ),\n",
    "    cv2.FONT_HERSHEY_SIMPLEX, 1, color, 2)\n",
    "\n",
    "    return orig"
   ]
  },
  {
   "cell_type": "code",
   "execution_count": 12,
   "id": "97666802",
   "metadata": {},
   "outputs": [
    {
     "name": "stdout",
     "output_type": "stream",
     "text": [
      "1/1 [==============================] - 2s 2s/step\n",
      "1/1 [==============================] - 2s 2s/step\n"
     ]
    },
    {
     "data": {
      "text/plain": [
       "True"
      ]
     },
     "execution_count": 12,
     "metadata": {},
     "output_type": "execute_result"
    }
   ],
   "source": [
    "img = cv2.imread('testImages//testImage2.jpg')\n",
    "\n",
    "image = face_mask_prediction(img)\n",
    "\n",
    "\n",
    "cv2.imshow(\"Output\", image)\n",
    "cv2.waitKey(0)\n",
    "cv2.imwrite(\"output.jpg\",image)"
   ]
  },
  {
   "cell_type": "code",
   "execution_count": null,
   "id": "e5396642",
   "metadata": {},
   "outputs": [],
   "source": []
  },
  {
   "cell_type": "code",
   "execution_count": null,
   "id": "b4c29299",
   "metadata": {},
   "outputs": [],
   "source": []
  }
 ],
 "metadata": {
  "kernelspec": {
   "display_name": "Python 3 (ipykernel)",
   "language": "python",
   "name": "python3"
  },
  "language_info": {
   "codemirror_mode": {
    "name": "ipython",
    "version": 3
   },
   "file_extension": ".py",
   "mimetype": "text/x-python",
   "name": "python",
   "nbconvert_exporter": "python",
   "pygments_lexer": "ipython3",
   "version": "3.10.3"
  },
  "vscode": {
   "interpreter": {
    "hash": "93c9aeb5fa7879b484351bdfcc553e62cda7e333ce6645b095da114168d21fc7"
   }
  }
 },
 "nbformat": 4,
 "nbformat_minor": 5
}
